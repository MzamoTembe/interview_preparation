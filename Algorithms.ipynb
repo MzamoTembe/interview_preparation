{
  "cells": [
    {
      "cell_type": "markdown",
      "metadata": {
        "id": "gOylSSoNa24d"
      },
      "source": [
        "# Leetcode Grind (Common Algorithms)\n",
        "This is just a quick notebook for all the fundamentals that could help me prep for interviews. I think if you have a strong understanding oif these then you are fine for most junior level interviews (that test DSA)."
      ]
    },
    {
      "cell_type": "markdown",
      "metadata": {
        "id": "AJFVH5-oa24e"
      },
      "source": [
        "# Two Pointers\n",
        "\n",
        "The Two Pointers Technique is a powerful algorithmic paradigm where two pointers iterate through a data structure (typically an array or linked list) to solve problems efficiently. This technique often reduces time complexity by avoiding nested loops.\n",
        "\n",
        "**Practice Problems:**\n",
        "\n",
        "-   [Remove Duplicates from Sorted Array](https://leetcode.com/problems/remove-duplicates-from-sorted-array/): Given a sorted array, remove the duplicates in-place such that each element appears only once and returns the new length.\n",
        "-   [Valid Palindrome](https://leetcode.com/problems/valid-palindrome/): Given a string, determine if it is a palindrome, considering only alphanumeric characters and ignoring cases.\n",
        "\n",
        "**Time Complexity:**\n",
        "\n",
        "-   Often linear, O(n), as both pointers typically traverse the data structure once."
      ]
    },
    {
      "cell_type": "code",
      "execution_count": null,
      "metadata": {
        "id": "fxexOEa3a24f"
      },
      "outputs": [],
      "source": [
        "# Practice"
      ]
    },
    {
      "cell_type": "markdown",
      "metadata": {
        "id": "IK7V4oxRa24g"
      },
      "source": [
        "# Reverse a Linked List\n",
        "\n",
        "Reversing a linked list involves rearranging the nodes' pointers so that the list traverses in the opposite direction. This fundamental operation is often used in algorithms that manipulate linked list structures.\n",
        "\n",
        "**Practice Problems:**\n",
        "\n",
        "-   [Reverse Linked List](https://leetcode.com/problems/reverse-linked-list/): Reverse a singly linked list.\n",
        "-   [Reverse Linked List II](https://leetcode.com/problems/reverse-linked-list-ii/): Reverse a portion of a linked list between given positions.\n",
        "-   [Reverse a doubly linked list](https://www.hackerrank.com/challenges/reverse-a-doubly-linked-list/problem): Reverse a doubly linked list.\n",
        "-   [Palindrome Linked List](https://leetcode.com/problems/palindrome-linked-list/): Check if a linked list is a palindrome.\n",
        "\n",
        "**Time Complexity:**\n",
        "\n",
        "-   O(n), where n is the number of nodes in the linked list.\n"
      ]
    },
    {
      "cell_type": "code",
      "execution_count": null,
      "metadata": {
        "id": "nZoNfUmga24g"
      },
      "outputs": [],
      "source": [
        "# Practice"
      ]
    },
    {
      "cell_type": "markdown",
      "metadata": {
        "id": "yXfpLqJwa24h"
      },
      "source": [
        "# Sliding Window Algorithm\n",
        "\n",
        "The Sliding Window Algorithm is a computational technique used to efficiently solve problems that involve finding contiguous **subarrays or substrings** within a larger array or string. It works by maintaining a window of fixed or variable size that slides across the input data.\n",
        "\n",
        "**Practice Problems:**\n",
        "- [Maximum Average Subarray I](https://leetcode.com/problems/maximum-average-subarray-i/): Find the maximum average of a contiguous subarray of a given length.\n",
        "- [Best Time to Buy and Sell Stock](https://leetcode.com/problems/best-time-to-buy-and-sell-stock/): Determine the best time to buy and sell stock to maximize profit.\n",
        "\n",
        "**Time Complexity:**\n",
        "\n",
        "-   Typically O(n), where n is the size of the input array or string."
      ]
    },
    {
      "cell_type": "code",
      "execution_count": null,
      "metadata": {
        "id": "-g8ltiw2a24h"
      },
      "outputs": [],
      "source": [
        "# Practice"
      ]
    },
    {
      "cell_type": "markdown",
      "metadata": {
        "id": "v46KQs7ma24i"
      },
      "source": [
        "# Binary Search\n",
        "\n",
        "Binary Search is a powerful search algorithm that efficiently finds a target value within a sorted array by repeatedly dividing the search interval in half.\n",
        "\n",
        "**Practice Problems:**\n",
        "\n",
        "-   [Binary Search](https://leetcode.com/problems/binary-search/):  The classic binary search problem.\n",
        "-   [Binary Search (Rosiland)](https://rosalind.info/problems/bins/):  The classic binary search problem.\n",
        "- [Search in a Binary Search Tree](https://leetcode.com/problems/search-in-a-binary-search-tree/description/): Search for a value in a binary search tree.\n",
        "\n",
        "**Time Complexity:**\n",
        "\n",
        "-   O(log n), where n is the size of the array."
      ]
    },
    {
      "cell_type": "code",
      "execution_count": null,
      "metadata": {
        "id": "ZSB6_Yywa24j"
      },
      "outputs": [],
      "source": [
        "# Practice"
      ]
    },
    {
      "cell_type": "markdown",
      "metadata": {
        "id": "e3az8O_qa24j"
      },
      "source": [
        "# Breadth-First Search (BFS)\n",
        "\n",
        "Breadth-First Search (BFS) is a graph traversal algorithm that explores all the vertices of a graph in a breadthwise manner, visiting all the neighbors of a node before moving on to the next level.\n",
        "\n",
        "**Practice Problems:**\n",
        "- [BFS: Shortest Reach in a Graph](https://www.hackerrank.com/challenges/ctci-bfs-shortest-reach/problem): Find the shortest reach in a graph using BFS.\n",
        "- [Binary Tree Level Order Traversal](https://leetcode.com/problems/binary-tree-level-order-traversal/): Traverse a binary tree level by level and return the values.\n",
        "- [Breadth-First Search (Rosalind)](https://rosalind.info/problems/bfs/): Traverse a graph level by level using BFS.\n",
        "\n",
        "**Time Complexity:**\n",
        "\n",
        "-   O(V + E), where V is the number of vertices and E is the number of edges in the graph.\n"
      ]
    },
    {
      "cell_type": "code",
      "execution_count": null,
      "metadata": {
        "id": "fyKPv6Zda24k"
      },
      "outputs": [],
      "source": [
        "# Practice"
      ]
    },
    {
      "cell_type": "markdown",
      "metadata": {
        "id": "DFd3JVVNa24k"
      },
      "source": [
        "# Depth-First Search (DFS)\n",
        "\n",
        "Depth-First Search (DFS) is a graph traversal algorithm that explores a graph bygoing as deep as possible along each branch before backtracking. It is a versatile technique used in various applications.\n",
        "\n",
        "**Practice Problems:**\n",
        "\n",
        "- [PacMan - DFS](https://www.hackerrank.com/challenges/pacman-dfs): Solve the PacMan game using Depth-First Search (DFS).\n",
        "- [N-ary Tree Preorder Traversal](https://leetcode.com/problems/n-ary-tree-preorder-traversal/description/): Traverse an N-ary tree in preorder.\n",
        "- [Binary Tree Inorder Traversal](https://leetcode.com/problems/binary-tree-inorder-traversal/): Traverse a binary tree in inorder.\n",
        "- [Binary Tree Preorder Traversal](https://leetcode.com/problems/binary-tree-preorder-traversal/): Traverse a binary tree in preorder.\n",
        "- [Binary Tree Postorder Traversal](https://leetcode.com/problems/binary-tree-postorder-traversal/): Traverse a binary tree in postorder.\n",
        "\n",
        "**Time Complexity:**\n",
        "\n",
        "-   O(V + E), where V is the number of vertices and E is the number of edges in the graph."
      ]
    },
    {
      "cell_type": "code",
      "execution_count": null,
      "metadata": {
        "id": "qdMt5Wfia24k"
      },
      "outputs": [],
      "source": [
        "# Practice"
      ]
    },
    {
      "cell_type": "markdown",
      "metadata": {
        "id": "Hqm21C2Ta24l"
      },
      "source": [
        "# Dijkstra's Algorithm\n",
        "\n",
        "Dijkstra's Algorithm is a greedy algorithm used to find the shortest path from a single source node to all other nodes in a weighted graph. It works for graphs with non-negative edge weights.\n",
        "\n",
        "**Practice Problems:**\n",
        "\n",
        "-   [Dijkstra's Algorithm](https://neetcode.io/problems/dijkstra): Implement Dijkstra's shortest path algorithm.\n",
        "-   [Dijkstra's Algorithm (Rosiland)](https://rosalind.info/problems/dij/): Implement Dijkstra's shortest path\n",
        "\n",
        "**Time Complexity (V: number of vertices, E: number of edges):**\n",
        "\n",
        "| Implementation              | Time Complexity           |\n",
        "| --------------------------- | ------------------------ |\n",
        "| Naive Implementation        | O(V^2)                   |\n",
        "| Using Binary Heap (Priority Queue) | O((V + E) log V)     |\n",
        "| Using Fibonacci Heap        | O(E + V log V)         |"
      ]
    },
    {
      "cell_type": "code",
      "execution_count": null,
      "metadata": {
        "id": "hrnh6rHqa24l"
      },
      "outputs": [],
      "source": [
        "# Practice"
      ]
    },
    {
      "cell_type": "markdown",
      "metadata": {
        "id": "7ndYEBhfa24l"
      },
      "source": [
        "# Floyd's Tortoise and Hare Algorithm\n",
        "\n",
        "Floyd's Tortoise and Hare Algorithm, also known as the cycle detection algorithm, is a pointer-based algorithm used to detect cycles in linked lists. It employs two pointers moving at different speeds (the \"tortoise\" and the \"hare\") to determine if a cycle exists.\n",
        "\n",
        "**Practice Problems:**\n",
        "\n",
        "-   [Linked List Cycle](https://leetcode.com/problems/linked-list-cycle/): Determine if a linked list has a cycle.\n",
        "\n",
        "**Time Complexity:**\n",
        "\n",
        "-   O(n), where n is the number of nodes in the linked list."
      ]
    },
    {
      "cell_type": "code",
      "execution_count": null,
      "metadata": {
        "id": "Pnbm-MLSa24m"
      },
      "outputs": [],
      "source": [
        "# Practice"
      ]
    },
    {
      "cell_type": "markdown",
      "metadata": {
        "id": "DZtLAbFFa24m"
      },
      "source": [
        "# Partitioning an Array\n",
        "\n",
        "Partitioning an array involves rearranging its elements to satisfy a given condition. The most common partitioning scheme is the **Dutch National Flag Problem**, where the array is divided into three sections: elements smaller than a pivot, elements equal to the pivot, and elements greater than the pivot.\n",
        "\n",
        "**Practice Problems:**\n",
        "- [Array Partition](https://leetcode.com/problems/array-partition/description/): Partition an array into pairs and maximize the sum of min pairs.\n",
        "- [2-Way Partition](https://rosalind.info/problems/par/): Partition an array around a pivot into two parts.\n",
        "- [3-Way Partition](https://rosalind.info/problems/par3/): Partition an array into three parts based on a pivot.\n",
        "\n",
        "**Time Complexity:**\n",
        "\n",
        "-   O(n), where n is the size of the array. The algorithm typically makes a single pass through the array."
      ]
    },
    {
      "cell_type": "code",
      "execution_count": null,
      "metadata": {
        "id": "yKQGvvA2a24m"
      },
      "outputs": [],
      "source": [
        "# Practice"
      ]
    },
    {
      "cell_type": "markdown",
      "metadata": {
        "id": "H4F0MDLia24m"
      },
      "source": [
        "# Insertion Sort\n",
        "\n",
        "Insertion Sort is a simple in-place comparison-based sorting algorithm that builds the final sorted array one item at a time. It is efficient for small lists and mostly sorted arrays but less efficient than other algorithms for large, unsorted datasets.\n",
        "\n",
        "**Practice Problems:**\n",
        "\n",
        "- [Insertion Sort](https://neetcode.io/problems/insertionSort): Implement Insertion Sort and return intermediate states.\n",
        "- [Insertion Sort (Rosiland)](https://rosalind.info/problems/ins/): Implement Insertion Sort and return intermediate states.\n",
        "-   [Insertion Sort List](https://leetcode.com/problems/insertion-sort-list/): Sort a linked list using insertion sort.\n",
        "\n",
        "**Time Complexity:**\n",
        "\n",
        "| Case       | Time Complexity |\n",
        "| ---------- | --------------- |\n",
        "| Best       | O(n)            |\n",
        "| Average    | O(n^2)           |\n",
        "| Worst      | O(n^2)           |\n"
      ]
    },
    {
      "cell_type": "code",
      "execution_count": null,
      "metadata": {
        "id": "37AY4Ivza24n"
      },
      "outputs": [],
      "source": [
        "# Practice"
      ]
    },
    {
      "cell_type": "markdown",
      "metadata": {
        "id": "rNIBKQKha24n"
      },
      "source": [
        "# QuickSort\n",
        "\n",
        "QuickSort is an efficient, in-place sorting algorithm that follows the divide-and-conquer paradigm. It is known for its average-case time complexity of O(n log n) and is widely used for its practical performance in real-world scenarios.\n",
        "\n",
        "**Practice Problems:**\n",
        "- [QuickSort Algorithm](https://rosalind.info/problems/qs/): Implement QuickSort.\n",
        "- [Quicksort 1 - Partition](https://www.hackerrank.com/challenges/quicksort1/problem?isFullScreen=false): Implement the partition step of QuickSort.\n",
        "- [Sort an Array](https://leetcode.com/problems/sort-an-array/): Implement and practice QuickSort.\n",
        "- [Kth Largest Element in an Array](https://leetcode.com/problems/kth-largest-element-in-an-array/): Find the kth largest element in an unsorted array using QuickSort's partitioning technique.\n",
        "\n",
        "**Time Complexity:**\n",
        "\n",
        "| Case       | Time Complexity |\n",
        "| ---------- | --------------- |\n",
        "| Best       | O(n log n)      |\n",
        "| Average    | O(n log n)      |\n",
        "| Worst      | O(n^2)           |"
      ]
    },
    {
      "cell_type": "code",
      "execution_count": null,
      "metadata": {
        "id": "lJUWi522a24n"
      },
      "outputs": [],
      "source": [
        "# Practice"
      ]
    },
    {
      "cell_type": "markdown",
      "metadata": {
        "id": "zvy7T8bLa24o"
      },
      "source": [
        "# Heap Sort\n",
        "\n",
        "Heap Sort is a comparison-based sorting algorithm that utilizes a binary heap data structure to achieve efficient sorting. It combines the best of both worlds: like Merge Sort, it has a time complexity of O(n log n), and like Insertion Sort, it sorts in-place, requiring minimal additional memory.\n",
        "\n",
        "**Practice Problems:**\n",
        "- [Heap Sort](https://www.hackerrank.com/contests/hw1/challenges/heap-sort): Practice Heap Sort.\n",
        "- [Heap Sort (Rosalind)](https://rosalind.info/problems/hs/): Implement Heap Sort.\n",
        "- [Sort an Array](https://leetcode.com/problems/sort-an-array/): Implement and practice Heap Sort.\n",
        "\n",
        "**Time Complexity:**\n",
        "\n",
        "| Case       | Time Complexity |\n",
        "| ---------- | --------------- |\n",
        "| Best       | O(n log n)      |\n",
        "| Average    | O(n log n)      |\n",
        "| Worst      | O(n log n)      |\n"
      ]
    },
    {
      "cell_type": "code",
      "execution_count": null,
      "metadata": {
        "id": "MV4M40w0a24o"
      },
      "outputs": [],
      "source": [
        "# Practice"
      ]
    },
    {
      "cell_type": "markdown",
      "metadata": {
        "id": "QoXgnTHHa24o"
      },
      "source": [
        "# Merge Sort\n",
        "Merge Sort is a comparison-based sorting algorithm that follows the divide-and-conquer paradigm. It is known for its stability, meaning it maintains the relative order of equal elements, and its consistent time complexity of O(n log n).\n",
        "\n",
        "**Practice Problems:**\n",
        "- [Merge Sort](https://www.hackerrank.com/contests/hw1/challenges/merge-sort): Practice Merge Sort.\n",
        "- [Merge Sort (Rosalind)](https://rosalind.info/problems/ms/): Implement Merge Sort.\n",
        "- [Sort an Array](https://leetcode.com/problems/sort-an-array/): Implement and practice Merge Sort.\n",
        "\n",
        "**Time Complexity:**\n",
        "\n",
        "| Case       | Time Complexity |\n",
        "| ---------- | --------------- |\n",
        "| Best       | O(n log n)      |\n",
        "| Average    | O(n log n)      |\n",
        "| Worst      | O(n log n)      |\n"
      ]
    },
    {
      "cell_type": "code",
      "execution_count": null,
      "metadata": {
        "id": "ffISja-Wa24o"
      },
      "outputs": [],
      "source": [
        "# Practice"
      ]
    }
  ],
  "metadata": {
    "kernelspec": {
      "display_name": "Python 3",
      "language": "python",
      "name": "python3"
    },
    "language_info": {
      "codemirror_mode": {
        "name": "ipython",
        "version": 3
      },
      "file_extension": ".py",
      "mimetype": "text/x-python",
      "name": "python",
      "nbconvert_exporter": "python",
      "pygments_lexer": "ipython3",
      "version": "3.11.9"
    },
    "colab": {
      "provenance": []
    }
  },
  "nbformat": 4,
  "nbformat_minor": 0
}